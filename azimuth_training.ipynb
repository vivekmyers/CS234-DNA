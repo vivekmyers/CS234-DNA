{
 "cells": [
  {
   "cell_type": "code",
   "execution_count": 2,
   "metadata": {},
   "outputs": [],
   "source": [
    "from seq_net import *\n",
    "net = SeqNet()"
   ]
  },
  {
   "cell_type": "code",
   "execution_count": 3,
   "metadata": {},
   "outputs": [],
   "source": [
    "import os\n",
    "import pickle\n",
    "\n",
    "data = {}\n",
    "for f in os.listdir('data'):\n",
    "    data[f[:-2]] = pickle.load(open('data/' + f, 'rb'), encoding='latin1')\n",
    "    \n",
    "labels = [x for x in data]\n",
    "testing = ['NF2']\n",
    "training = [x for x in labels if x != 'NF2']\n",
    "\n",
    "val = []\n",
    "tran = []"
   ]
  },
  {
   "cell_type": "code",
   "execution_count": null,
   "metadata": {},
   "outputs": [],
   "source": [
    "for x in data:\n",
    "    print(x, len(data[x]))"
   ]
  },
  {
   "cell_type": "code",
   "execution_count": null,
   "metadata": {},
   "outputs": [],
   "source": [
    "from tqdm import trange\n",
    "import random \n",
    "\n",
    "for i in trange(100):\n",
    "    gene = random.choice(training)\n",
    "    samples = [(dna_vec(a), b) for a, b in data[gene]]\n",
    "    tran.append(net.evaluate(samples, 10))\n",
    "    net.train(samples, 10)\n",
    "    validation = data[testing[0]]\n",
    "    samples = [(dna_vec(a), b) for a, b in validation]\n",
    "    if i % 2:\n",
    "        val.append(net.evaluate(samples, 10))\n",
    "    else:\n",
    "        val.append(val[-1])"
   ]
  },
  {
   "cell_type": "code",
   "execution_count": null,
   "metadata": {},
   "outputs": [],
   "source": [
    "pickle.dump(val, open('results/validation.p', 'wb'))\n",
    "pickle.dump(tran, open('results/training.p', 'wb'))"
   ]
  },
  {
   "cell_type": "code",
   "execution_count": null,
   "metadata": {},
   "outputs": [],
   "source": [
    "saver = tf.train.Saver()\n",
    "saver.save(net.sess, 'results/model.ckpt')"
   ]
  },
  {
   "cell_type": "code",
   "execution_count": null,
   "metadata": {},
   "outputs": [],
   "source": [
    "import matplotlib.pyplot as plt\n",
    "\n",
    "smooth = 5\n",
    "plt.title('Validation Reward')\n",
    "plt.xlabel('Iteration')\n",
    "plt.plot(np.convolve(val, [1 / smooth] * smooth)[smooth:-smooth])\n",
    "plt.savefig('results/validation.png')\n",
    "plt.show()\n",
    "\n",
    "smooth = 20\n",
    "plt.title('Training Reward')\n",
    "plt.xlabel('Iteration')\n",
    "plt.plot(np.convolve(tran, [1 / smooth] * smooth)[smooth:-smooth])\n",
    "plt.savefig('results/training.png')\n",
    "plt.show()"
   ]
  },
  {
   "cell_type": "code",
   "execution_count": 6,
   "metadata": {},
   "outputs": [
    {
     "name": "stdout",
     "output_type": "stream",
     "text": [
      "[('GGCCAAGAAGAACTTAAGCG', 0.768913059), ('GCTGGATTCTGACCAGCACA', 0.795121081), ('GCAAAACCTGGAAAACCCAA', 0.95195016)]\n",
      "\n",
      "best seen\t\t rate\t\t action\t\t\t reward\t\t\n",
      "GCAGCAGGCTGCACTCCTGC \t 0.36806574 \t GTAAGAAGACTCTTCGAATT \t 0.09874929645\n",
      "GCAGCAGGCTGCACTCCTGC \t 0.36806574 \t GTCCAGCGACCTGGTTAGTC \t 0.175798198\n",
      "GCAGCAGGCTGCACTCCTGC \t 0.36806574 \t TGACGACTCAGTGGTGGCGT \t 0.073294316\n",
      "GCAGCAGGCTGCACTCCTGC \t 0.36806574 \t GACAGTATGAAGAAAACCCG \t 0.10119156245000001\n",
      "GCAGCAGGCTGCACTCCTGC \t 0.36806574 \t AAGTATGGAGGGGGTCGGCT \t 0.16918857719999997\n",
      "GAGCATAGACAGTATGTGTA \t 0.375974616 \t GTAAGCCTTTTCAAATAGGG \t 0.06698301165\n",
      "GAGCATAGACAGTATGTGTA \t 0.375974616 \t GCGCTGGTCCTTTCGTTAGG \t 0.13773943349999998\n",
      "GAGCATAGACAGTATGTGTA \t 0.375974616 \t GCTAGACCACATTCAGAGTG \t 0.0862152755\n",
      "GAGCATAGACAGTATGTGTA \t 0.375974616 \t GCATAAGAAGCGAGTTGATG \t 0.080707042\n",
      "GAGCATAGACAGTATGTGTA \t 0.375974616 \t GTGTTCCTGTCACCTATTGG \t 0.037300085999999996\n",
      "GAGCATAGACAGTATGTGTA \t 0.375974616 \t CCCGCGCTAAAGGTCATCTG \t 0.34626371780000004\n",
      "ACTGGGCTAACCTAAAGCTG \t 0.629570396 \t ACTAGAGTGAATGCTACCAG \t 0.083414659\n",
      "ACTGGGCTAACCTAAAGCTG \t 0.629570396 \t ATCTGAGGGTCGCCGACGAT \t 0.031857753\n",
      "ACTGGGCTAACCTAAAGCTG \t 0.629570396 \t GTCACTCGAATGCGCATCCG \t 0.058730827\n",
      "ACTGGGCTAACCTAAAGCTG \t 0.629570396 \t ACGTTCATATTTAGGGTAAT \t 0.23265081045\n",
      "ACTGGGCTAACCTAAAGCTG \t 0.629570396 \t CAACATTCGATAGAATTTGG \t 0.0542486635\n",
      "ACTGGGCTAACCTAAAGCTG \t 0.629570396 \t AGGAGAGGGAGGTCAGAAAA \t 0.08145946035\n",
      "ACTGGGCTAACCTAAAGCTG \t 0.629570396 \t ATCAGGTTTGTATAACTTAC \t 0.0326242701\n",
      "ACTGGGCTAACCTAAAGCTG \t 0.629570396 \t TTGGGGCCACGTCTCTAGCC \t 0.068792528\n",
      "ACTGGGCTAACCTAAAGCTG \t 0.629570396 \t AAGGTATGACTTTGCATTCA \t 0.0620598985\n"
     ]
    }
   ],
   "source": [
    "test_data = data[training[3]]\n",
    "\n",
    "s, a, r = net.path([(dna_vec(a), b) for a, b in test_data])\n",
    "top3 = sorted(test_data, key=lambda x: x[1])[-3:]\n",
    "print(top3)\n",
    "\n",
    "print()\n",
    "print('best seen\\t\\t', 'rate\\t\\t', 'action\\t\\t\\t', 'reward\\t\\t')\n",
    "for state, action, reward in zip(s, a, r):\n",
    "    best_seen = max(state, key=lambda x: x[1])\n",
    "    print(vec_dna(best_seen[0]), '\\t', best_seen[1], '\\t', vec_dna(action), '\\t', reward)"
   ]
  }
 ],
 "metadata": {
  "kernelspec": {
   "display_name": "Python 3.6",
   "language": "python",
   "name": "py3.6env"
  }
 },
 "nbformat": 4,
 "nbformat_minor": 2
}
