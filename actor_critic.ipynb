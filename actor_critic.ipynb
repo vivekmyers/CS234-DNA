{
 "cells": [
  {
   "cell_type": "code",
   "execution_count": 1,
   "metadata": {},
   "outputs": [],
   "source": [
    "from os import listdir\n",
    "import os\n",
    "import pickle\n",
    "\n",
    "done = 0\n",
    "data = {}\n",
    "for f in listdir('data'):\n",
    "    data[f[:-2]] = pickle.load(open('data/' + f, 'rb'), encoding='latin1')\n",
    "\n",
    "genes = [x for x in data]\n",
    "training = genes[:5]\n",
    "testing = genes[5:]"
   ]
  },
  {
   "cell_type": "code",
   "execution_count": 1,
   "metadata": {},
   "outputs": [],
   "source": [
    "import random\n",
    "\n",
    "val_p = 1\n",
    "val_n = 0\n",
    "\n",
    "pA=[('A' * 20, val_p)],\n",
    "pB=[('T' * 20, val_p)],\n",
    "pC=[('C' * 20, val_p)],\n",
    "pD=[('G' * 20, val_p)],\n",
    "nA=[('A' * 20, val_n)],\n",
    "nB=[('T' * 20, val_n)],\n",
    "nC=[('C' * 20, val_n)],\n",
    "nD=[('G' * 20, val_n)],\n",
    "\n",
    "toy_env = dict(\n",
    "    tB = (5 * pC + 5 * pB + 10 * nD) * 10,\n",
    "    tC = (5 * pA + 5 * pD + 5 * nC + 5 * nB) * 10,\n",
    "    tD = (5 * nD + 5 * nB + 10 * pA) * 10,\n",
    "    vB = (5 * pA + 5 * pD + 5 * nC + 5 * nB) * 10,\n",
    "    tE = (5 * pC + 5 * pB + 10 * nD) * 10,\n",
    "    vA = (5 * pA + 5 * pD + 5 * nC + 5 * nB) * 10,\n",
    "    vC = (5 * pC + 5 * pB + 10 * nD) * 10,\n",
    "    tA = (5 * nC + 5 * nB + 10 * pA) * 10,\n",
    ")\n",
    "data = {}\n",
    "for x in toy_env:\n",
    "    data[x] = [i[0] for i in toy_env[x]]\n",
    "    \n",
    "genes = [x for x in data]\n",
    "random.shuffle(genes)\n",
    "training = genes[:5]\n",
    "testing = genes[5:]"
   ]
  },
  {
   "cell_type": "code",
   "execution_count": 2,
   "metadata": {},
   "outputs": [],
   "source": [
    "from seq_net import *"
   ]
  },
  {
   "cell_type": "code",
   "execution_count": 4,
   "metadata": {},
   "outputs": [],
   "source": [
    "net = SeqNet()"
   ]
  },
  {
   "cell_type": "code",
   "execution_count": 13,
   "metadata": {},
   "outputs": [
    {
     "name": "stderr",
     "output_type": "stream",
     "text": [
      "\r",
      "  0%|          | 0/10 [00:00<?, ?it/s]"
     ]
    },
    {
     "name": "stdout",
     "output_type": "stream",
     "text": [
      "------------------------------\n",
      "0.61425\n",
      "0.50975\n"
     ]
    },
    {
     "name": "stderr",
     "output_type": "stream",
     "text": [
      "\r",
      " 10%|█         | 1/10 [00:56<08:26, 56.31s/it]"
     ]
    },
    {
     "name": "stdout",
     "output_type": "stream",
     "text": [
      "0.6355000000000001\n",
      "------------------------------\n",
      "------------------------------\n",
      "0.75875\n",
      "0.5745\n"
     ]
    },
    {
     "name": "stderr",
     "output_type": "stream",
     "text": [
      "\r",
      " 20%|██        | 2/10 [01:44<07:11, 53.96s/it]"
     ]
    },
    {
     "name": "stdout",
     "output_type": "stream",
     "text": [
      "0.7384999999999999\n",
      "------------------------------\n",
      "------------------------------\n",
      "0.5347500000000001\n",
      "0.5577500000000001\n"
     ]
    },
    {
     "name": "stderr",
     "output_type": "stream",
     "text": [
      "\r",
      " 30%|███       | 3/10 [02:35<06:11, 53.10s/it]"
     ]
    },
    {
     "name": "stdout",
     "output_type": "stream",
     "text": [
      "0.77375\n",
      "------------------------------\n",
      "------------------------------\n",
      "0.74725\n",
      "0.6225\n"
     ]
    },
    {
     "name": "stderr",
     "output_type": "stream",
     "text": [
      "\r",
      " 40%|████      | 4/10 [03:21<05:05, 51.00s/it]"
     ]
    },
    {
     "name": "stdout",
     "output_type": "stream",
     "text": [
      "0.5545\n",
      "------------------------------\n",
      "------------------------------\n",
      "0.63725\n",
      "0.6355\n"
     ]
    },
    {
     "name": "stderr",
     "output_type": "stream",
     "text": [
      "\r",
      " 50%|█████     | 5/10 [04:07<04:06, 49.21s/it]"
     ]
    },
    {
     "name": "stdout",
     "output_type": "stream",
     "text": [
      "0.6267499999999999\n",
      "------------------------------\n",
      "------------------------------\n",
      "0.33725\n",
      "0.6505000000000001\n"
     ]
    },
    {
     "name": "stderr",
     "output_type": "stream",
     "text": [
      "\r",
      " 60%|██████    | 6/10 [04:54<03:15, 48.79s/it]"
     ]
    },
    {
     "name": "stdout",
     "output_type": "stream",
     "text": [
      "0.6302499999999999\n",
      "------------------------------\n",
      "------------------------------\n",
      "0.6275\n",
      "0.6675\n"
     ]
    },
    {
     "name": "stderr",
     "output_type": "stream",
     "text": [
      "\r",
      " 70%|███████   | 7/10 [05:40<02:23, 47.74s/it]"
     ]
    },
    {
     "name": "stdout",
     "output_type": "stream",
     "text": [
      "0.6189999999999999\n",
      "------------------------------\n",
      "------------------------------\n",
      "0.7040000000000001\n",
      "0.66025\n"
     ]
    },
    {
     "name": "stderr",
     "output_type": "stream",
     "text": [
      "\r",
      " 80%|████████  | 8/10 [06:25<01:33, 46.95s/it]"
     ]
    },
    {
     "name": "stdout",
     "output_type": "stream",
     "text": [
      "0.7055000000000001\n",
      "------------------------------\n",
      "------------------------------\n",
      "0.55125\n",
      "0.7307499999999999\n"
     ]
    },
    {
     "name": "stderr",
     "output_type": "stream",
     "text": [
      "\r",
      " 90%|█████████ | 9/10 [07:09<00:46, 46.15s/it]"
     ]
    },
    {
     "name": "stdout",
     "output_type": "stream",
     "text": [
      "0.584\n",
      "------------------------------\n",
      "------------------------------\n",
      "0.72225\n",
      "0.75075\n"
     ]
    },
    {
     "name": "stderr",
     "output_type": "stream",
     "text": [
      "\r",
      "100%|██████████| 10/10 [07:51<00:00, 45.02s/it]"
     ]
    },
    {
     "name": "stdout",
     "output_type": "stream",
     "text": [
      "0.7502500000000001\n",
      "------------------------------\n"
     ]
    },
    {
     "name": "stderr",
     "output_type": "stream",
     "text": [
      "\n"
     ]
    }
   ],
   "source": [
    "for i in trange(10):\n",
    "    for i in training:\n",
    "        net.train([(dna_vec(a), b) for a, b in data[i]], 10)\n",
    "    print('-' * 30)\n",
    "    for i in testing:\n",
    "        print(net.evaluate([(dna_vec(a), b) for a, b in data[i]], 10))\n",
    "    print('-' * 30)"
   ]
  },
  {
   "cell_type": "code",
   "execution_count": 11,
   "metadata": {},
   "outputs": [
    {
     "name": "stdout",
     "output_type": "stream",
     "text": [
      "{('GGGGGGGGGGGGGGGGGGGG', 0), ('TTTTTTTTTTTTTTTTTTTT', 1), ('CCCCCCCCCCCCCCCCCCCC', 1)}\n"
     ]
    }
   ],
   "source": [
    "print(set(data[testing[1]]))"
   ]
  },
  {
   "cell_type": "code",
   "execution_count": 29,
   "metadata": {},
   "outputs": [
    {
     "name": "stdout",
     "output_type": "stream",
     "text": [
      "TTTTTTTTTTTTTTTTTTTT 0\n",
      "GGGGGGGGGGGGGGGGGGGG 1\n",
      "GGGGGGGGGGGGGGGGGGGG 1\n",
      "GGGGGGGGGGGGGGGGGGGG 1\n",
      "GGGGGGGGGGGGGGGGGGGG 1\n",
      "done: ACAACAAACCTAACCAACAC 0.55\n",
      "GGGGGGGGGGGGGGGGGGGG 1\n",
      "GGGGGGGGGGGGGGGGGGGG 1\n",
      "GGGGGGGGGGGGGGGGGGGG 1\n",
      "GGGGGGGGGGGGGGGGGGGG 1\n",
      "AAAAAAAAAAAAAAAAAAAA 1\n",
      "done: GAAACAAACAAAACACAAAA 0.75\n",
      "GGGGGGGGGGGGGGGGGGGG 1\n",
      "GGGGGGGGGGGGGGGGGGGG 1\n",
      "GGGGGGGGGGGGGGGGGGGG 1\n",
      "GGGGGGGGGGGGGGGGGGGG 1\n",
      "AAAAAAAAAAAAAAAAAAAA 1\n",
      "done: AAAACAACCAAAAAAAAAAC 0.8\n",
      "GGGGGGGGGGGGGGGGGGGG 1\n",
      "GGGGGGGGGGGGGGGGGGGG 1\n",
      "GGGGGGGGGGGGGGGGGGGG 1\n",
      "GGGGGGGGGGGGGGGGGGGG 1\n",
      "AAAAAAAAAAAAAAAAAAAA 1\n",
      "done: ACAACAAACAACAAAAAAAA 0.8\n",
      "GGGGGGGGGGGGGGGGGGGG 1\n",
      "GGGGGGGGGGGGGGGGGGGG 1\n",
      "GGGGGGGGGGGGGGGGGGGG 1\n",
      "GGGGGGGGGGGGGGGGGGGG 1\n",
      "AAAAAAAAAAAAAAAAAAAA 1\n",
      "done: AAAACAAACAAAAAACGAAA 0.8\n",
      "GGGGGGGGGGGGGGGGGGGG 1\n",
      "GGGGGGGGGGGGGGGGGGGG 1\n",
      "GGGGGGGGGGGGGGGGGGGG 1\n",
      "GGGGGGGGGGGGGGGGGGGG 1\n",
      "AAAAAAAAAAAAAAAAAAAA 1\n",
      "done: AAAACGAACAAAATAAAAAA 0.8\n",
      "GGGGGGGGGGGGGGGGGGGG 1\n",
      "GGGGGGGGGGGGGGGGGGGG 1\n",
      "GGGGGGGGGGGGGGGGGGGG 1\n",
      "GGGGGGGGGGGGGGGGGGGG 1\n",
      "AAAAAAAAAAAAAAAAAAAA 1\n",
      "done: GAAAAAAACAAAAAACAAAA 0.85\n",
      "GGGGGGGGGGGGGGGGGGGG 1\n",
      "GGGGGGGGGGGGGGGGGGGG 1\n",
      "GGGGGGGGGGGGGGGGGGGG 1\n",
      "GGGGGGGGGGGGGGGGGGGG 1\n",
      "AAAAAAAAAAAAAAAAAAAA 1\n",
      "done: AAAACAAACAAAAAATAAAA 0.85\n",
      "GGGGGGGGGGGGGGGGGGGG 1\n",
      "GGGGGGGGGGGGGGGGGGGG 1\n",
      "GGGGGGGGGGGGGGGGGGGG 1\n",
      "GGGGGGGGGGGGGGGGGGGG 1\n",
      "AAAAAAAAAAAAAAAAAAAA 1\n",
      "done: AAAACAAACAAAAAACAAAC 0.8\n",
      "GGGGGGGGGGGGGGGGGGGG 1\n",
      "GGGGGGGGGGGGGGGGGGGG 1\n",
      "GGGGGGGGGGGGGGGGGGGG 1\n",
      "GGGGGGGGGGGGGGGGGGGG 1\n",
      "AAAAAAAAAAAAAAAAAAAA 1\n",
      "done: AAAACAAACAAAAAACAAAC 0.8\n",
      "GGGGGGGGGGGGGGGGGGGG 1\n",
      "GGGGGGGGGGGGGGGGGGGG 1\n",
      "GGGGGGGGGGGGGGGGGGGG 1\n",
      "GGGGGGGGGGGGGGGGGGGG 1\n",
      "AAAAAAAAAAAAAAAAAAAA 1\n",
      "done: GCAACAAACAAAAACAAAAA 0.75\n",
      "GGGGGGGGGGGGGGGGGGGG 1\n",
      "GGGGGGGGGGGGGGGGGGGG 1\n",
      "GGGGGGGGGGGGGGGGGGGG 1\n",
      "GGGGGGGGGGGGGGGGGGGG 1\n",
      "AAAAAAAAAAAAAAAAAAAA 1\n",
      "done: GAAACAGACAAAAAACAAAA 0.75\n",
      "GGGGGGGGGGGGGGGGGGGG 1\n",
      "GGGGGGGGGGGGGGGGGGGG 1\n",
      "GGGGGGGGGGGGGGGGGGGG 1\n",
      "GGGGGGGGGGGGGGGGGGGG 1\n",
      "AAAAAAAAAAAAAAAAAAAA 1\n",
      "done: GAAACAAACACAACACAAAA 0.7\n",
      "GGGGGGGGGGGGGGGGGGGG 1\n",
      "GGGGGGGGGGGGGGGGGGGG 1\n",
      "GGGGGGGGGGGGGGGGGGGG 1\n",
      "GGGGGGGGGGGGGGGGGGGG 1\n",
      "AAAAAAAAAAAAAAAAAAAA 1\n",
      "done: AAAACAAACAAAAAAAAAAA 0.9\n",
      "GGGGGGGGGGGGGGGGGGGG 1\n",
      "GGGGGGGGGGGGGGGGGGGG 1\n",
      "GGGGGGGGGGGGGGGGGGGG 1\n",
      "GGGGGGGGGGGGGGGGGGGG 1\n",
      "AAAAAAAAAAAAAAAAAAAA 1\n",
      "done: ACAACAAACAGAAAAAGAAA 0.75\n",
      "GGGGGGGGGGGGGGGGGGGG 1\n",
      "GGGGGGGGGGGGGGGGGGGG 1\n",
      "GGGGGGGGGGGGGGGGGGGG 1\n",
      "GGGGGGGGGGGGGGGGGGGG 1\n",
      "AAAAAAAAAAAAAAAAAAAA 1\n",
      "done: GCAACAAACATCAAACAAAA 0.65\n",
      "GGGGGGGGGGGGGGGGGGGG 1\n",
      "GGGGGGGGGGGGGGGGGGGG 1\n",
      "GGGGGGGGGGGGGGGGGGGG 1\n",
      "GGGGGGGGGGGGGGGGGGGG 1\n",
      "AAAAAAAAAAAAAAAAAAAA 1\n",
      "done: AAAACAAACACAAAAAAAAA 0.85\n",
      "GGGGGGGGGGGGGGGGGGGG 1\n",
      "GGGGGGGGGGGGGGGGGGGG 1\n",
      "GGGGGGGGGGGGGGGGGGGG 1\n",
      "GGGGGGGGGGGGGGGGGGGG 1\n",
      "AAAAAAAAAAAAAAAAAAAA 1\n",
      "done: ACAACAGACAAAAAACAAAA 0.75\n",
      "GGGGGGGGGGGGGGGGGGGG 1\n",
      "GGGGGGGGGGGGGGGGGGGG 1\n",
      "GGGGGGGGGGGGGGGGGGGG 1\n",
      "GGGGGGGGGGGGGGGGGGGG 1\n",
      "AAAAAAAAAAAAAAAAAAAA 1\n",
      "done: AAAACAAACAAAAAAAAAAC 0.85\n",
      "GGGGGGGGGGGGGGGGGGGG 1\n",
      "GGGGGGGGGGGGGGGGGGGG 1\n",
      "GGGGGGGGGGGGGGGGGGGG 1\n",
      "GGGGGGGGGGGGGGGGGGGG 1\n",
      "AAAAAAAAAAAAAAAAAAAA 1\n",
      "done: ACAACAAACACAACAAAAAA 0.75\n",
      "--------------------------------------------------\n",
      "TTTTTTTTTTTTTTTTTTTT 1\n",
      "GGGGGGGGGGGGGGGGGGGG 0\n",
      "TTTTTTTTTTTTTTTTTTTT 1\n",
      "TTTTTTTTTTTTTTTTTTTT 1\n",
      "TTTTTTTTTTTTTTTTTTTT 1\n",
      "done: AACACAACCTCCCCGCTCTC 0.55\n",
      "TTTTTTTTTTTTTTTTTTTT 1\n",
      "TTTTTTTTTTTTTTTTTTTT 1\n",
      "TTTTTTTTTTTTTTTTTTTT 1\n",
      "TTTTTTTTTTTTTTTTTTTT 1\n",
      "CCCCCCCCCCCCCCCCCCCC 1\n",
      "done: CGCACCCCCTCCCCCCTCCC 0.8\n",
      "TTTTTTTTTTTTTTTTTTTT 1\n",
      "TTTTTTTTTTTTTTTTTTTT 1\n",
      "TTTTTTTTTTTTTTTTTTTT 1\n",
      "TTTTTTTTTTTTTTTTTTTT 1\n",
      "CCCCCCCCCCCCCCCCCCCC 1\n",
      "done: ACCCCCCCCCCCCCTCTCCC 0.85\n",
      "TTTTTTTTTTTTTTTTTTTT 1\n",
      "TTTTTTTTTTTTTTTTTTTT 1\n",
      "TTTTTTTTTTTTTTTTTTTT 1\n",
      "TTTTTTTTTTTTTTTTTTTT 1\n",
      "CCCCCCCCCCCCCCCCCCCC 1\n",
      "done: GTCACCACCGCCCACCTCCC 0.65\n",
      "TTTTTTTTTTTTTTTTTTTT 1\n",
      "TTTTTTTTTTTTTTTTTTTT 1\n",
      "TTTTTTTTTTTTTTTTTTTT 1\n",
      "TTTTTTTTTTTTTTTTTTTT 1\n",
      "CCCCCCCCCCCCCCCCCCCC 1\n",
      "done: CGCCCCCCCTCCCCCCTCCC 0.85\n",
      "TTTTTTTTTTTTTTTTTTTT 1\n",
      "TTTTTTTTTTTTTTTTTTTT 1\n",
      "TTTTTTTTTTTTTTTTTTTT 1\n",
      "TTTTTTTTTTTTTTTTTTTT 1\n",
      "CCCCCCCCCCCCCCCCCCCC 1\n",
      "done: CCCACCCACTCCCACCTCCC 0.75\n",
      "TTTTTTTTTTTTTTTTTTTT 1\n",
      "TTTTTTTTTTTTTTTTTTTT 1\n",
      "TTTTTTTTTTTTTTTTTTTT 1\n",
      "TTTTTTTTTTTTTTTTTTTT 1\n",
      "CCCCCCCCCCCCCCCCCCCC 1\n",
      "done: CTCTCCCCCTCCCCCCTCCC 0.8\n",
      "TTTTTTTTTTTTTTTTTTTT 1\n",
      "TTTTTTTTTTTTTTTTTTTT 1\n",
      "TTTTTTTTTTTTTTTTTTTT 1\n",
      "TTTTTTTTTTTTTTTTTTTT 1\n",
      "CCCCCCCCCCCCCCCCCCCC 1\n",
      "done: GCCCCAACCTCCCCTCTCCC 0.7\n",
      "TTTTTTTTTTTTTTTTTTTT 1\n",
      "TTTTTTTTTTTTTTTTTTTT 1\n",
      "TTTTTTTTTTTTTTTTTTTT 1\n",
      "TTTTTTTTTTTTTTTTTTTT 1\n",
      "CCCCCCCCCCCCCCCCCCCC 1\n",
      "done: GCCACACCCTCCCCTCTCCC 0.7\n",
      "TTTTTTTTTTTTTTTTTTTT 1\n",
      "TTTTTTTTTTTTTTTTTTTT 1\n",
      "TTTTTTTTTTTTTTTTTTTT 1\n",
      "TTTTTTTTTTTTTTTTTTTT 1\n",
      "CCCCCCCCCCCCCCCCCCCC 1\n",
      "done: CCCACCCCCCCCCCTCTCCC 0.85\n",
      "TTTTTTTTTTTTTTTTTTTT 1\n",
      "TTTTTTTTTTTTTTTTTTTT 1\n",
      "TTTTTTTTTTTTTTTTTTTT 1\n",
      "TTTTTTTTTTTTTTTTTTTT 1\n",
      "CCCCCCCCCCCCCCCCCCCC 1\n",
      "done: CCCACCCCCTCCCCTCTCCT 0.75\n",
      "TTTTTTTTTTTTTTTTTTTT 1\n",
      "TTTTTTTTTTTTTTTTTTTT 1\n",
      "TTTTTTTTTTTTTTTTTTTT 1\n",
      "TTTTTTTTTTTTTTTTTTTT 1\n",
      "CCCCCCCCCCCCCCCCCCCC 1\n",
      "done: GCTACACCCTCCCCCCTCCC 0.7\n",
      "TTTTTTTTTTTTTTTTTTTT 1\n",
      "TTTTTTTTTTTTTTTTTTTT 1\n",
      "TTTTTTTTTTTTTTTTTTTT 1\n",
      "TTTTTTTTTTTTTTTTTTTT 1\n",
      "CCCCCCCCCCCCCCCCCCCC 1\n",
      "done: TCCACCCCCTCCCTCCTCCC 0.75\n",
      "TTTTTTTTTTTTTTTTTTTT 1\n",
      "TTTTTTTTTTTTTTTTTTTT 1\n",
      "TTTTTTTTTTTTTTTTTTTT 1\n",
      "TTTTTTTTTTTTTTTTTTTT 1\n",
      "CCCCCCCCCCCCCCCCCCCC 1\n",
      "done: GTCTCCGCCTCCCCCCTCCC 0.7\n",
      "TTTTTTTTTTTTTTTTTTTT 1\n",
      "TTTTTTTTTTTTTTTTTTTT 1\n",
      "TTTTTTTTTTTTTTTTTTTT 1\n",
      "TTTTTTTTTTTTTTTTTTTT 1\n",
      "CCCCCCCCCCCCCCCCCCCC 1\n",
      "done: CCCCCCCCCCCCCCTCTCCC 0.9\n",
      "TTTTTTTTTTTTTTTTTTTT 1\n",
      "TTTTTTTTTTTTTTTTTTTT 1\n",
      "TTTTTTTTTTTTTTTTTTTT 1\n",
      "TTTTTTTTTTTTTTTTTTTT 1\n",
      "CCCCCCCCCCCCCCCCCCCC 1\n",
      "done: ATCACCCCCTCCCCCCTCCC 0.75\n",
      "TTTTTTTTTTTTTTTTTTTT 1\n",
      "TTTTTTTTTTTTTTTTTTTT 1\n",
      "TTTTTTTTTTTTTTTTTTTT 1\n",
      "TTTTTTTTTTTTTTTTTTTT 1\n",
      "CCCCCCCCCCCCCCCCCCCC 1\n",
      "done: CTCACCCCCCCACCTCTCCC 0.75\n",
      "TTTTTTTTTTTTTTTTTTTT 1\n",
      "TTTTTTTTTTTTTTTTTTTT 1\n",
      "TTTTTTTTTTTTTTTTTTTT 1\n",
      "TTTTTTTTTTTTTTTTTTTT 1\n",
      "CCCCCCCCCCCCCCCCCCCC 1\n",
      "done: GCCCCACCCTCCCCCCTCCC 0.8\n",
      "TTTTTTTTTTTTTTTTTTTT 1\n",
      "TTTTTTTTTTTTTTTTTTTT 1\n",
      "TTTTTTTTTTTTTTTTTTTT 1\n",
      "TTTTTTTTTTTTTTTTTTTT 1\n",
      "CCCCCCCCCCCCCCCCCCCC 1\n",
      "done: CCCTCCCCCTCCCCTCTCAC 0.75\n",
      "TTTTTTTTTTTTTTTTTTTT 1\n",
      "TTTTTTTTTTTTTTTTTTTT 1\n",
      "TTTTTTTTTTTTTTTTTTTT 1\n",
      "TTTTTTTTTTTTTTTTTTTT 1\n",
      "CCCCCCCCCCCCCCCCCCCC 1\n",
      "done: CTCACCCCCTCCCATCTCCC 0.7\n",
      "--------------------------------------------------\n",
      "AAAAAAAAAAAAAAAAAAAA 1\n",
      "CCCCCCCCCCCCCCCCCCCC 0\n",
      "AAAAAAAAAAAAAAAAAAAA 1\n",
      "TTTTTTTTTTTTTTTTTTTT 0\n",
      "AAAAAAAAAAAAAAAAAAAA 1\n",
      "done: GCAACAAACACACACCAAAC 0.55\n",
      "AAAAAAAAAAAAAAAAAAAA 1\n",
      "AAAAAAAAAAAAAAAAAAAA 1\n",
      "AAAAAAAAAAAAAAAAAAAA 1\n",
      "AAAAAAAAAAAAAAAAAAAA 1\n",
      "CCCCCCCCCCCCCCCCCCCC 0\n",
      "done: AAAACAAACAAAAAACAAAA 0.85\n",
      "AAAAAAAAAAAAAAAAAAAA 1\n",
      "AAAAAAAAAAAAAAAAAAAA 1\n",
      "AAAAAAAAAAAAAAAAAAAA 1\n",
      "AAAAAAAAAAAAAAAAAAAA 1\n",
      "AAAAAAAAAAAAAAAAAAAA 1\n",
      "done: AAAACAAACAAAAAAAAAAA 0.9\n",
      "AAAAAAAAAAAAAAAAAAAA 1\n",
      "AAAAAAAAAAAAAAAAAAAA 1\n",
      "AAAAAAAAAAAAAAAAAAAA 1\n",
      "AAAAAAAAAAAAAAAAAAAA 1\n",
      "AAAAAAAAAAAAAAAAAAAA 1\n",
      "done: AAAACAAACAAAAAAAAAAA 0.9\n",
      "AAAAAAAAAAAAAAAAAAAA 1\n",
      "AAAAAAAAAAAAAAAAAAAA 1\n",
      "AAAAAAAAAAAAAAAAAAAA 1\n",
      "AAAAAAAAAAAAAAAAAAAA 1\n",
      "AAAAAAAAAAAAAAAAAAAA 1\n",
      "done: AAAACAAACAAAAAAAAAAA 0.9\n",
      "AAAAAAAAAAAAAAAAAAAA 1\n",
      "AAAAAAAAAAAAAAAAAAAA 1\n",
      "AAAAAAAAAAAAAAAAAAAA 1\n",
      "AAAAAAAAAAAAAAAAAAAA 1\n",
      "AAAAAAAAAAAAAAAAAAAA 1\n",
      "done: AAAACCAACAAAAAAAAAAA 0.85\n",
      "AAAAAAAAAAAAAAAAAAAA 1\n",
      "AAAAAAAAAAAAAAAAAAAA 1\n",
      "AAAAAAAAAAAAAAAAAAAA 1\n",
      "AAAAAAAAAAAAAAAAAAAA 1\n",
      "AAAAAAAAAAAAAAAAAAAA 1\n",
      "done: AAAACAAACAAAAAAAAAAA 0.9\n",
      "AAAAAAAAAAAAAAAAAAAA 1\n",
      "AAAAAAAAAAAAAAAAAAAA 1\n",
      "AAAAAAAAAAAAAAAAAAAA 1\n",
      "AAAAAAAAAAAAAAAAAAAA 1\n",
      "AAAAAAAAAAAAAAAAAAAA 1\n",
      "done: AAAGCAAACAAAAAAAAAAA 0.85\n",
      "AAAAAAAAAAAAAAAAAAAA 1\n",
      "AAAAAAAAAAAAAAAAAAAA 1\n",
      "AAAAAAAAAAAAAAAAAAAA 1\n",
      "AAAAAAAAAAAAAAAAAAAA 1\n",
      "AAAAAAAAAAAAAAAAAAAA 1\n",
      "done: AAAACAAACAAAAAAAAAAA 0.9\n",
      "AAAAAAAAAAAAAAAAAAAA 1\n",
      "AAAAAAAAAAAAAAAAAAAA 1\n",
      "AAAAAAAAAAAAAAAAAAAA 1\n",
      "AAAAAAAAAAAAAAAAAAAA 1\n",
      "AAAAAAAAAAAAAAAAAAAA 1\n",
      "done: AAAACAAACACAAAACAAAA 0.8\n",
      "AAAAAAAAAAAAAAAAAAAA 1\n",
      "AAAAAAAAAAAAAAAAAAAA 1\n",
      "AAAAAAAAAAAAAAAAAAAA 1\n",
      "AAAAAAAAAAAAAAAAAAAA 1\n",
      "AAAAAAAAAAAAAAAAAAAA 1\n",
      "done: AAAACAAACAAAAAAAAAAA 0.9\n",
      "AAAAAAAAAAAAAAAAAAAA 1\n",
      "AAAAAAAAAAAAAAAAAAAA 1\n",
      "AAAAAAAAAAAAAAAAAAAA 1\n",
      "AAAAAAAAAAAAAAAAAAAA 1\n",
      "AAAAAAAAAAAAAAAAAAAA 1\n",
      "done: GAAACAAACAAAAAACAAAA 0.8\n",
      "AAAAAAAAAAAAAAAAAAAA 1\n",
      "AAAAAAAAAAAAAAAAAAAA 1\n",
      "AAAAAAAAAAAAAAAAAAAA 1\n",
      "AAAAAAAAAAAAAAAAAAAA 1\n",
      "AAAAAAAAAAAAAAAAAAAA 1\n",
      "done: AAAACAAATAAAAAAAAAAA 0.9\n",
      "AAAAAAAAAAAAAAAAAAAA 1\n",
      "AAAAAAAAAAAAAAAAAAAA 1\n",
      "AAAAAAAAAAAAAAAAAAAA 1\n",
      "AAAAAAAAAAAAAAAAAAAA 1\n",
      "AAAAAAAAAAAAAAAAAAAA 1\n",
      "done: AAAACAAACAAAAAAAAAAA 0.9\n",
      "AAAAAAAAAAAAAAAAAAAA 1\n",
      "AAAAAAAAAAAAAAAAAAAA 1\n",
      "AAAAAAAAAAAAAAAAAAAA 1\n",
      "AAAAAAAAAAAAAAAAAAAA 1\n",
      "AAAAAAAAAAAAAAAAAAAA 1\n",
      "done: AAAACAAACAAAAAAAAAAA 0.9\n",
      "AAAAAAAAAAAAAAAAAAAA 1\n",
      "AAAAAAAAAAAAAAAAAAAA 1\n",
      "AAAAAAAAAAAAAAAAAAAA 1\n",
      "AAAAAAAAAAAAAAAAAAAA 1\n",
      "AAAAAAAAAAAAAAAAAAAA 1\n",
      "done: AAAACAGACAAAAAATAAAA 0.8\n",
      "AAAAAAAAAAAAAAAAAAAA 1\n",
      "AAAAAAAAAAAAAAAAAAAA 1\n",
      "AAAAAAAAAAAAAAAAAAAA 1\n",
      "AAAAAAAAAAAAAAAAAAAA 1\n",
      "AAAAAAAAAAAAAAAAAAAA 1\n",
      "done: ACAACAAACAAAAAACAAAA 0.8\n",
      "AAAAAAAAAAAAAAAAAAAA 1\n",
      "AAAAAAAAAAAAAAAAAAAA 1\n",
      "AAAAAAAAAAAAAAAAAAAA 1\n",
      "AAAAAAAAAAAAAAAAAAAA 1\n",
      "AAAAAAAAAAAAAAAAAAAA 1\n",
      "done: AAAAGAAACACAAAACAAAA 0.8\n",
      "AAAAAAAAAAAAAAAAAAAA 1\n",
      "AAAAAAAAAAAAAAAAAAAA 1\n",
      "AAAAAAAAAAAAAAAAAAAA 1\n",
      "AAAAAAAAAAAAAAAAAAAA 1\n",
      "AAAAAAAAAAAAAAAAAAAA 1\n",
      "done: AAAACAAACAAAAAAAAAAA 0.9\n",
      "AAAAAAAAAAAAAAAAAAAA 1\n",
      "AAAAAAAAAAAAAAAAAAAA 1\n",
      "AAAAAAAAAAAAAAAAAAAA 1\n",
      "AAAAAAAAAAAAAAAAAAAA 1\n",
      "AAAAAAAAAAAAAAAAAAAA 1\n",
      "done: GAAACAAACAAAAAAAAAAA 0.85\n",
      "--------------------------------------------------\n"
     ]
    }
   ],
   "source": [
    "for i in testing:\n",
    "    s, a, r = (net.path([(dna_vec(a), b) for a, b in data[i]]))\n",
    "    for z, x, y in zip(s, a, r):\n",
    "        for t, p in z:\n",
    "            print(vec_dna(t), p)\n",
    "        print('done:', vec_dna(x), y)\n",
    "    print('-' * 50)"
   ]
  }
 ],
 "metadata": {
  "kernelspec": {
   "display_name": "Python 3.6",
   "language": "python",
   "name": "py3.6env"
  },
  "language_info": {
   "codemirror_mode": {
    "name": "ipython",
    "version": 3
   },
   "file_extension": ".py",
   "mimetype": "text/x-python",
   "name": "python",
   "nbconvert_exporter": "python",
   "pygments_lexer": "ipython3",
   "version": "3.6.5"
  }
 },
 "nbformat": 4,
 "nbformat_minor": 2
}
