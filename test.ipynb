{
 "cells": [
  {
   "cell_type": "code",
   "execution_count": 1,
   "metadata": {},
   "outputs": [
    {
     "name": "stderr",
     "output_type": "stream",
     "text": [
      "/Users/vivek/Documents/Programming/234-dna/venv/lib/python2.7/site-packages/pandas/util/_decorators.py:188: FutureWarning: The `sheetname` keyword is deprecated, use `sheet_name` instead\n",
      "  return func(*args, **kwargs)\n"
     ]
    },
    {
     "name": "stdout",
     "output_type": "stream",
     "text": [
      "Loaded 64 samples for gene HPRT1 \ttotal number of samples: 64\n",
      "Loaded 149 samples for gene CCDC101 \ttotal number of samples: 213\n",
      "Loaded 924 samples for gene MED12 \ttotal number of samples: 1137\n",
      "Loaded 190 samples for gene TADA2B \ttotal number of samples: 1327\n",
      "Loaded 109 samples for gene TADA1 \ttotal number of samples: 1436\n",
      "Loaded 154 samples for gene CUL3 \ttotal number of samples: 1590\n",
      "Loaded 736 samples for gene NF1 \ttotal number of samples: 2326\n",
      "Loaded 223 samples for gene NF2 \ttotal number of samples: 2549\n",
      "Loaded 924 samples for gene MED12 \ttotal number of samples: 3473\n"
     ]
    }
   ],
   "source": [
    "import data_loader\n",
    "\n",
    "data = data_loader.get_V2_data()"
   ]
  },
  {
   "cell_type": "code",
   "execution_count": 2,
   "metadata": {
    "scrolled": true
   },
   "outputs": [
    {
     "name": "stdout",
     "output_type": "stream",
     "text": [
      "CCDC101\n",
      "HPRT1\n",
      "MED12\n",
      "NF2\n",
      "NF1\n",
      "TADA1\n",
      "TADA2B\n",
      "CUL3\n"
     ]
    }
   ],
   "source": [
    "for i in data:\n",
    "    print i"
   ]
  },
  {
   "cell_type": "code",
   "execution_count": null,
   "metadata": {},
   "outputs": [],
   "source": []
  }
 ],
 "metadata": {
  "kernelspec": {
   "display_name": "Python 2",
   "language": "python",
   "name": "python2"
  },
  "language_info": {
   "codemirror_mode": {
    "name": "ipython",
    "version": 2
   },
   "file_extension": ".py",
   "mimetype": "text/x-python",
   "name": "python",
   "nbconvert_exporter": "python",
   "pygments_lexer": "ipython2",
   "version": "2.7.10"
  }
 },
 "nbformat": 4,
 "nbformat_minor": 2
}
