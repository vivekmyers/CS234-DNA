{
 "cells": [
  {
   "cell_type": "code",
   "execution_count": 1,
   "metadata": {},
   "outputs": [
    {
     "name": "stderr",
     "output_type": "stream",
     "text": [
      "/Users/vivek/Documents/Programming/234-dna/venv/lib/python2.7/site-packages/pandas/util/_decorators.py:188: FutureWarning: The `sheetname` keyword is deprecated, use `sheet_name` instead\n",
      "  return func(*args, **kwargs)\n"
     ]
    },
    {
     "name": "stdout",
     "output_type": "stream",
     "text": [
      "Loaded 64 samples for gene HPRT1 \ttotal number of samples: 64\n",
      "Loaded 149 samples for gene CCDC101 \ttotal number of samples: 213\n",
      "Loaded 924 samples for gene MED12 \ttotal number of samples: 1137\n",
      "Loaded 190 samples for gene TADA2B \ttotal number of samples: 1327\n",
      "Loaded 109 samples for gene TADA1 \ttotal number of samples: 1436\n",
      "Loaded 154 samples for gene CUL3 \ttotal number of samples: 1590\n",
      "Loaded 736 samples for gene NF1 \ttotal number of samples: 2326\n",
      "Loaded 223 samples for gene NF2 \ttotal number of samples: 2549\n",
      "Loaded 924 samples for gene MED12 \ttotal number of samples: 3473\n"
     ]
    }
   ],
   "source": [
    "import data_loader\n",
    "\n",
    "data = data_loader.get_V2_data()"
   ]
  },
  {
   "cell_type": "code",
   "execution_count": 4,
   "metadata": {
    "scrolled": true
   },
   "outputs": [
    {
     "name": "stdout",
     "output_type": "stream",
     "text": [
      "CCDC101 148\n",
      "HPRT1 63\n",
      "MED12 1847\n",
      "NF2 222\n",
      "NF1 735\n",
      "TADA1 108\n",
      "TADA2B 189\n",
      "CUL3 153\n"
     ]
    }
   ],
   "source": [
    "for i in data:\n",
    "    print i, len(data[i])"
   ]
  },
  {
   "cell_type": "code",
   "execution_count": 7,
   "metadata": {},
   "outputs": [
    {
     "name": "stdout",
     "output_type": "stream",
     "text": [
      "20\n"
     ]
    }
   ],
   "source": [
    "print len(data['HPRT1'][0][0])"
   ]
  }
 ],
 "metadata": {
  "kernelspec": {
   "display_name": "Python 2",
   "language": "python",
   "name": "python2"
  },
  "language_info": {
   "codemirror_mode": {
    "name": "ipython",
    "version": 2
   },
   "file_extension": ".py",
   "mimetype": "text/x-python",
   "name": "python",
   "nbconvert_exporter": "python",
   "pygments_lexer": "ipython2",
   "version": "2.7.10"
  }
 },
 "nbformat": 4,
 "nbformat_minor": 2
}
