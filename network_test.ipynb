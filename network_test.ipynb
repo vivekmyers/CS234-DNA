{
 "cells": [
  {
   "cell_type": "code",
   "execution_count": 1,
   "metadata": {},
   "outputs": [],
   "source": [
    "import random\n",
    "from collections import OrderedDict\n",
    "\n",
    "val_p = 1\n",
    "val_n = 0\n",
    "\n",
    "pA=[('A' * 20, val_p)],\n",
    "pB=[('T' * 20, val_p)],\n",
    "pC=[('C' * 20, val_p)],\n",
    "pD=[('G' * 20, val_p)],\n",
    "nA=[('A' * 20, val_n)],\n",
    "nB=[('T' * 20, val_n)],\n",
    "nC=[('C' * 20, val_n)],\n",
    "nD=[('G' * 20, val_n)],\n",
    "\n",
    "toy_env = OrderedDict(\n",
    "    A = (1 * pC + 1 * pB + 1 * nD + 1 * nA),\n",
    "    B = (1 * pA + 1 * pD + 1 * nC + 1 * nB),\n",
    "    C = (1 * nD + 1 * nB + 1 * pA + 1 * nC),\n",
    "    D = (1 * nD + 1 * nB + 1 * nA + 1 * pC),\n",
    "    E = (1 * nD + 1 * nB + 1 * pA + 1 * nC),\n",
    "    F = (1 * nD + 1 * pB + 1 * nA + 1 * nC),\n",
    "    G = (1 * pD + 1 * nB + 1 * nA + 1 * nC),\n",
    "    H = (1 * pA + 1 * pD + 1 * nC + 1 * nB),\n",
    "    I = (1 * pC + 1 * pB + 1 * nD + 1 * nA),\n",
    "    J = (1 * pA + 1 * pD + 1 * nC + 1 * nB),\n",
    "    K = (1 * pC + 1 * pB + 1 * nD + 1 * nA),\n",
    "    L = (1 * nC + 1 * nB + 1 * pA + 1 * nD),\n",
    "    M = (1 * nD + 1 * pB + 1 * nA + 1 * nC),\n",
    ")\n",
    "\n",
    "data = OrderedDict()\n",
    "for x in toy_env:\n",
    "    data[x] = [i[0] for i in toy_env[x]]\n",
    "    \n",
    "genes = [x for x in data]\n",
    "training = genes[:9]\n",
    "testing = genes[9:]"
   ]
  },
  {
   "cell_type": "code",
   "execution_count": 2,
   "metadata": {
    "scrolled": false
   },
   "outputs": [
    {
     "name": "stdout",
     "output_type": "stream",
     "text": [
      "OrderedDict([('A', [('CCCCCCCCCCCCCCCCCCCC', 1), ('TTTTTTTTTTTTTTTTTTTT', 1), ('GGGGGGGGGGGGGGGGGGGG', 0), ('AAAAAAAAAAAAAAAAAAAA', 0)]), ('B', [('AAAAAAAAAAAAAAAAAAAA', 1), ('GGGGGGGGGGGGGGGGGGGG', 1), ('CCCCCCCCCCCCCCCCCCCC', 0), ('TTTTTTTTTTTTTTTTTTTT', 0)]), ('C', [('GGGGGGGGGGGGGGGGGGGG', 0), ('TTTTTTTTTTTTTTTTTTTT', 0), ('AAAAAAAAAAAAAAAAAAAA', 1), ('CCCCCCCCCCCCCCCCCCCC', 0)]), ('D', [('GGGGGGGGGGGGGGGGGGGG', 0), ('TTTTTTTTTTTTTTTTTTTT', 0), ('AAAAAAAAAAAAAAAAAAAA', 0), ('CCCCCCCCCCCCCCCCCCCC', 1)]), ('E', [('GGGGGGGGGGGGGGGGGGGG', 0), ('TTTTTTTTTTTTTTTTTTTT', 0), ('AAAAAAAAAAAAAAAAAAAA', 1), ('CCCCCCCCCCCCCCCCCCCC', 0)]), ('F', [('GGGGGGGGGGGGGGGGGGGG', 0), ('TTTTTTTTTTTTTTTTTTTT', 1), ('AAAAAAAAAAAAAAAAAAAA', 0), ('CCCCCCCCCCCCCCCCCCCC', 0)]), ('G', [('GGGGGGGGGGGGGGGGGGGG', 1), ('TTTTTTTTTTTTTTTTTTTT', 0), ('AAAAAAAAAAAAAAAAAAAA', 0), ('CCCCCCCCCCCCCCCCCCCC', 0)]), ('H', [('AAAAAAAAAAAAAAAAAAAA', 1), ('GGGGGGGGGGGGGGGGGGGG', 1), ('CCCCCCCCCCCCCCCCCCCC', 0), ('TTTTTTTTTTTTTTTTTTTT', 0)]), ('I', [('CCCCCCCCCCCCCCCCCCCC', 1), ('TTTTTTTTTTTTTTTTTTTT', 1), ('GGGGGGGGGGGGGGGGGGGG', 0), ('AAAAAAAAAAAAAAAAAAAA', 0)]), ('J', [('AAAAAAAAAAAAAAAAAAAA', 1), ('GGGGGGGGGGGGGGGGGGGG', 1), ('CCCCCCCCCCCCCCCCCCCC', 0), ('TTTTTTTTTTTTTTTTTTTT', 0)]), ('K', [('CCCCCCCCCCCCCCCCCCCC', 1), ('TTTTTTTTTTTTTTTTTTTT', 1), ('GGGGGGGGGGGGGGGGGGGG', 0), ('AAAAAAAAAAAAAAAAAAAA', 0)]), ('L', [('CCCCCCCCCCCCCCCCCCCC', 0), ('TTTTTTTTTTTTTTTTTTTT', 0), ('AAAAAAAAAAAAAAAAAAAA', 1), ('GGGGGGGGGGGGGGGGGGGG', 0)]), ('M', [('GGGGGGGGGGGGGGGGGGGG', 0), ('TTTTTTTTTTTTTTTTTTTT', 1), ('AAAAAAAAAAAAAAAAAAAA', 0), ('CCCCCCCCCCCCCCCCCCCC', 0)])])\n"
     ]
    }
   ],
   "source": [
    "print(data)"
   ]
  },
  {
   "cell_type": "code",
   "execution_count": 3,
   "metadata": {},
   "outputs": [],
   "source": [
    "from wolpertinger_net import *\n",
    "sess = tf.Session()\n",
    "net = WolpertingerNet(sess, lr=0.0001)"
   ]
  },
  {
   "cell_type": "code",
   "execution_count": 4,
   "metadata": {},
   "outputs": [],
   "source": [
    "tres = []\n",
    "results = []"
   ]
  },
  {
   "cell_type": "code",
   "execution_count": null,
   "metadata": {
    "scrolled": true
   },
   "outputs": [
    {
     "name": "stderr",
     "output_type": "stream",
     "text": [
      "  0%|          | 4/1000 [00:11<48:37,  2.93s/it]"
     ]
    }
   ],
   "source": [
    "for i in trange(1000):\n",
    "    for i in training:\n",
    "        tres.append(net.train([(dna_vec(a), b) for a, b in data[i]], 2, 16))\n",
    "    for i in testing:\n",
    "        results.append(net.evaluate([(dna_vec(a), b) for a, b in data[i]], 2))"
   ]
  },
  {
   "cell_type": "code",
   "execution_count": 6,
   "metadata": {},
   "outputs": [],
   "source": [
    "import matplotlib.pyplot as plt"
   ]
  },
  {
   "cell_type": "code",
   "execution_count": 22,
   "metadata": {},
   "outputs": [
    {
     "data": {
      "text/plain": [
       "[<matplotlib.lines.Line2D at 0x7f020008ba90>]"
      ]
     },
     "execution_count": 22,
     "metadata": {},
     "output_type": "execute_result"
    },
    {
     "data": {
      "image/png": "[encoded data removed]",
      "text/plain": [
       "<Figure size 432x288 with 1 Axes>"
      ]
     },
     "metadata": {
      "needs_background": "light"
     },
     "output_type": "display_data"
    }
   ],
   "source": [
    "smooth = 100\n",
    "graph = np.convolve(results, [1 / smooth] * smooth)[smooth:-smooth]\n",
    "plt.plot(graph)"
   ]
  },
  {
   "cell_type": "code",
   "execution_count": 8,
   "metadata": {
    "scrolled": true
   },
   "outputs": [
    {
     "name": "stdout",
     "output_type": "stream",
     "text": [
      "[('AAAAAAAAAAAAAAAAAAAA', 0), ('CCCCCCCCCCCCCCCCCCCC', 1), ('GGGGGGGGGGGGGGGGGGGG', 0), ('TTTTTTTTTTTTTTTTTTTT', 1)]\n",
      "[('AAAAAAAAAAAAAAAAAAAA', 1), ('CCCCCCCCCCCCCCCCCCCC', 0), ('GGGGGGGGGGGGGGGGGGGG', 1), ('TTTTTTTTTTTTTTTTTTTT', 0)]\n",
      "[('AAAAAAAAAAAAAAAAAAAA', 1), ('CCCCCCCCCCCCCCCCCCCC', 0), ('GGGGGGGGGGGGGGGGGGGG', 0), ('TTTTTTTTTTTTTTTTTTTT', 0)]\n",
      "[('AAAAAAAAAAAAAAAAAAAA', 0), ('CCCCCCCCCCCCCCCCCCCC', 1), ('GGGGGGGGGGGGGGGGGGGG', 0), ('TTTTTTTTTTTTTTTTTTTT', 0)]\n",
      "[('AAAAAAAAAAAAAAAAAAAA', 1), ('CCCCCCCCCCCCCCCCCCCC', 0), ('GGGGGGGGGGGGGGGGGGGG', 0), ('TTTTTTTTTTTTTTTTTTTT', 0)]\n",
      "[('AAAAAAAAAAAAAAAAAAAA', 0), ('CCCCCCCCCCCCCCCCCCCC', 0), ('GGGGGGGGGGGGGGGGGGGG', 0), ('TTTTTTTTTTTTTTTTTTTT', 1)]\n",
      "[('AAAAAAAAAAAAAAAAAAAA', 0), ('CCCCCCCCCCCCCCCCCCCC', 0), ('GGGGGGGGGGGGGGGGGGGG', 1), ('TTTTTTTTTTTTTTTTTTTT', 0)]\n",
      "[('AAAAAAAAAAAAAAAAAAAA', 1), ('CCCCCCCCCCCCCCCCCCCC', 0), ('GGGGGGGGGGGGGGGGGGGG', 1), ('TTTTTTTTTTTTTTTTTTTT', 0)]\n",
      "[('AAAAAAAAAAAAAAAAAAAA', 0), ('CCCCCCCCCCCCCCCCCCCC', 1), ('GGGGGGGGGGGGGGGGGGGG', 0), ('TTTTTTTTTTTTTTTTTTTT', 1)]\n"
     ]
    }
   ],
   "source": [
    "for i in training:\n",
    "    print(sorted(list(set(data[i]))))"
   ]
  },
  {
   "cell_type": "code",
   "execution_count": 20,
   "metadata": {},
   "outputs": [
    {
     "data": {
      "text/plain": [
       "0.43133951137320975"
      ]
     },
     "execution_count": 20,
     "metadata": {},
     "output_type": "execute_result"
    }
   ],
   "source": [
    "net.eps"
   ]
  },
  {
   "cell_type": "code",
   "execution_count": 17,
   "metadata": {},
   "outputs": [
    {
     "name": "stdout",
     "output_type": "stream",
     "text": [
      "CCCCCCCCCCCCCCCCCCCC 1 2.835319\n",
      "TTTTTTTTTTTTTTTTTTTT 1 2.6000457\n",
      "TTTTTTTTTTTTTTTTTTTT 1 2.6000457\n",
      "TTTTTTTTTTTTTTTTTTTT 1 2.6000457\n",
      "TTTTTTTTTTTTTTTTTTTT 1 2.6000457\n",
      "done: CCGACCTGAGGAACAGATCT AAAAAAAAAAAAAAAAAAAA 0\n",
      "CCCCCCCCCCCCCCCCCCCC 1 2.0591304\n",
      "TTTTTTTTTTTTTTTTTTTT 1 2.7156415\n",
      "TTTTTTTTTTTTTTTTTTTT 1 2.7156415\n",
      "TTTTTTTTTTTTTTTTTTTT 1 2.7156415\n",
      "AAAAAAAAAAAAAAAAAAAA 0 1.6474648\n",
      "done: ACCCGCTGCAGCGGCAATCA TTTTTTTTTTTTTTTTTTTT 1\n",
      "CCCCCCCCCCCCCCCCCCCC 1 2.8920715\n",
      "TTTTTTTTTTTTTTTTTTTT 1 2.9766827\n",
      "TTTTTTTTTTTTTTTTTTTT 1 2.9766827\n",
      "AAAAAAAAAAAAAAAAAAAA 0 2.448087\n",
      "TTTTTTTTTTTTTTTTTTTT 1 2.9766827\n",
      "done: CGAGATTGGGGTGCGAATCG TTTTTTTTTTTTTTTTTTTT 1\n",
      "CCCCCCCCCCCCCCCCCCCC 1 2.835319\n",
      "TTTTTTTTTTTTTTTTTTTT 1 2.6000457\n",
      "TTTTTTTTTTTTTTTTTTTT 1 2.6000457\n",
      "TTTTTTTTTTTTTTTTTTTT 1 2.6000457\n",
      "TTTTTTTTTTTTTTTTTTTT 1 2.6000457\n",
      "done: CCGAACTGCAGATCTGGTCT CCCCCCCCCCCCCCCCCCCC 1\n",
      "CCCCCCCCCCCCCCCCCCCC 1 2.3217912\n",
      "TTTTTTTTTTTTTTTTTTTT 1 2.4384189\n",
      "TTTTTTTTTTTTTTTTTTTT 1 2.4384189\n",
      "TTTTTTTTTTTTTTTTTTTT 1 2.4384189\n",
      "CCCCCCCCCCCCCCCCCCCC 1 2.3217912\n",
      "done: GCGAATCTATGCAAGGTTCT GGGGGGGGGGGGGGGGGGGG 0\n",
      "CCCCCCCCCCCCCCCCCCCC 1 2.0459137\n",
      "TTTTTTTTTTTTTTTTTTTT 1 2.2639768\n",
      "TTTTTTTTTTTTTTTTTTTT 1 2.2639768\n",
      "CCCCCCCCCCCCCCCCCCCC 1 2.0459137\n",
      "GGGGGGGGGGGGGGGGGGGG 0 1.7400014\n",
      "done: GTAGTTTTGGAGTGTCTACG TTTTTTTTTTTTTTTTTTTT 1\n",
      "CCCCCCCCCCCCCCCCCCCC 1 1.2375575\n",
      "TTTTTTTTTTTTTTTTTTTT 1 2.5366426\n",
      "TTTTTTTTTTTTTTTTTTTT 1 2.5366426\n",
      "GGGGGGGGGGGGGGGGGGGG 0 1.7804672\n",
      "TTTTTTTTTTTTTTTTTTTT 1 2.5366426\n",
      "done: CTTATCTCCGGGCGAAGTAC AAAAAAAAAAAAAAAAAAAA 0\n",
      "CCCCCCCCCCCCCCCCCCCC 1 2.0591304\n",
      "TTTTTTTTTTTTTTTTTTTT 1 2.7156415\n",
      "TTTTTTTTTTTTTTTTTTTT 1 2.7156415\n",
      "TTTTTTTTTTTTTTTTTTTT 1 2.7156415\n",
      "AAAAAAAAAAAAAAAAAAAA 0 1.6474648\n",
      "done: TCCATCTGAGCCCTGATAGA TTTTTTTTTTTTTTTTTTTT 1\n",
      "CCCCCCCCCCCCCCCCCCCC 1 2.8920715\n",
      "TTTTTTTTTTTTTTTTTTTT 1 2.9766827\n",
      "TTTTTTTTTTTTTTTTTTTT 1 2.9766827\n",
      "AAAAAAAAAAAAAAAAAAAA 0 2.448087\n",
      "TTTTTTTTTTTTTTTTTTTT 1 2.9766827\n",
      "done: CCCGGATCAATAGCGAGACC TTTTTTTTTTTTTTTTTTTT 1\n",
      "CCCCCCCCCCCCCCCCCCCC 1 2.835319\n",
      "TTTTTTTTTTTTTTTTTTTT 1 2.6000457\n",
      "TTTTTTTTTTTTTTTTTTTT 1 2.6000457\n",
      "TTTTTTTTTTTTTTTTTTTT 1 2.6000457\n",
      "TTTTTTTTTTTTTTTTTTTT 1 2.6000457\n",
      "done: GCGACCTCACGGCCGATTCT CCCCCCCCCCCCCCCCCCCC 1\n",
      "CCCCCCCCCCCCCCCCCCCC 1 2.3217912\n",
      "TTTTTTTTTTTTTTTTTTTT 1 2.4384189\n",
      "TTTTTTTTTTTTTTTTTTTT 1 2.4384189\n",
      "TTTTTTTTTTTTTTTTTTTT 1 2.4384189\n",
      "CCCCCCCCCCCCCCCCCCCC 1 2.3217912\n",
      "done: ACCTACTAAGACACGAGTGC AAAAAAAAAAAAAAAAAAAA 0\n",
      "CCCCCCCCCCCCCCCCCCCC 1 3.8856902\n",
      "TTTTTTTTTTTTTTTTTTTT 1 3.0534441\n",
      "TTTTTTTTTTTTTTTTTTTT 1 3.0534441\n",
      "CCCCCCCCCCCCCCCCCCCC 1 3.8856902\n",
      "AAAAAAAAAAAAAAAAAAAA 0 1.7928431\n",
      "done: TTACGATCCGGGGTAGGCTG CCCCCCCCCCCCCCCCCCCC 1\n",
      "CCCCCCCCCCCCCCCCCCCC 1 3.338903\n",
      "TTTTTTTTTTTTTTTTTTTT 1 2.809115\n",
      "TTTTTTTTTTTTTTTTTTTT 1 2.809115\n",
      "AAAAAAAAAAAAAAAAAAAA 0 2.4092834\n",
      "CCCCCCCCCCCCCCCCCCCC 1 3.338903\n",
      "done: ATCGGTGACAGAGAGCTCGG TTTTTTTTTTTTTTTTTTTT 1\n",
      "CCCCCCCCCCCCCCCCCCCC 1 1.9297578\n",
      "TTTTTTTTTTTTTTTTTTTT 1 3.0977502\n",
      "TTTTTTTTTTTTTTTTTTTT 1 3.0977502\n",
      "CCCCCCCCCCCCCCCCCCCC 1 1.9297578\n",
      "TTTTTTTTTTTTTTTTTTTT 1 3.0977502\n",
      "done: GGCGGTTCTGGGCGCGGTGG TTTTTTTTTTTTTTTTTTTT 1\n",
      "CCCCCCCCCCCCCCCCCCCC 1 2.835319\n",
      "TTTTTTTTTTTTTTTTTTTT 1 2.6000457\n",
      "TTTTTTTTTTTTTTTTTTTT 1 2.6000457\n",
      "TTTTTTTTTTTTTTTTTTTT 1 2.6000457\n",
      "TTTTTTTTTTTTTTTTTTTT 1 2.6000457\n",
      "done: CGCAACTTGCGGAGTGGTAT CCCCCCCCCCCCCCCCCCCC 1\n",
      "CCCCCCCCCCCCCCCCCCCC 1 2.3217912\n",
      "TTTTTTTTTTTTTTTTTTTT 1 2.4384189\n",
      "TTTTTTTTTTTTTTTTTTTT 1 2.4384189\n",
      "TTTTTTTTTTTTTTTTTTTT 1 2.4384189\n",
      "CCCCCCCCCCCCCCCCCCCC 1 2.3217912\n",
      "done: ATAAAACCCGGCGCTATTCT AAAAAAAAAAAAAAAAAAAA 0\n",
      "CCCCCCCCCCCCCCCCCCCC 1 3.8856902\n",
      "TTTTTTTTTTTTTTTTTTTT 1 3.0534441\n",
      "TTTTTTTTTTTTTTTTTTTT 1 3.0534441\n",
      "CCCCCCCCCCCCCCCCCCCC 1 3.8856902\n",
      "AAAAAAAAAAAAAAAAAAAA 0 1.7928431\n",
      "done: TGCCCTTCCGGGGTAGACGG CCCCCCCCCCCCCCCCCCCC 1\n",
      "CCCCCCCCCCCCCCCCCCCC 1 3.338903\n",
      "TTTTTTTTTTTTTTTTTTTT 1 2.809115\n",
      "TTTTTTTTTTTTTTTTTTTT 1 2.809115\n",
      "AAAAAAAAAAAAAAAAAAAA 0 2.4092834\n",
      "CCCCCCCCCCCCCCCCCCCC 1 3.338903\n",
      "done: GCATCAGACAGGGAGTCTGG CCCCCCCCCCCCCCCCCCCC 1\n",
      "CCCCCCCCCCCCCCCCCCCC 1 1.8811712\n",
      "TTTTTTTTTTTTTTTTTTTT 1 2.8162751\n",
      "TTTTTTTTTTTTTTTTTTTT 1 2.8162751\n",
      "CCCCCCCCCCCCCCCCCCCC 1 1.8811712\n",
      "CCCCCCCCCCCCCCCCCCCC 1 1.8811712\n",
      "done: TAGCGTATAATTCCTCAAAG TTTTTTTTTTTTTTTTTTTT 1\n",
      "CCCCCCCCCCCCCCCCCCCC 1 1.9297578\n",
      "TTTTTTTTTTTTTTTTTTTT 1 3.0977502\n",
      "TTTTTTTTTTTTTTTTTTTT 1 3.0977502\n",
      "CCCCCCCCCCCCCCCCCCCC 1 1.9297578\n",
      "TTTTTTTTTTTTTTTTTTTT 1 3.0977502\n",
      "done: GCCGGTGCGATGCGGTGTGG TTTTTTTTTTTTTTTTTTTT 1\n",
      "--------------------------------------------------\n"
     ]
    }
   ],
   "source": [
    "for i in [testing[1]]:\n",
    "    states, proto_actions, actions, rewards = (net.path([(dna_vec(a), b) for a, b in data[i]]))\n",
    "    for state, proto, action, reward in zip(states, proto_actions, actions, rewards):\n",
    "        seqs = [t for t, p in state]\n",
    "        rewards = [p for t, p in state]\n",
    "        for (t, p) in state:\n",
    "            print(vec_dna(t), p, net.getQ(net.flat(np.array(seqs)), rewards, t))\n",
    "        print('done:', vec_dna(proto), vec_dna(action), reward)\n",
    "    print('-' * 50)"
   ]
  }
 ],
 "metadata": {
  "kernelspec": {
   "display_name": "Python 3",
   "language": "python",
   "name": "python3"
  },
  "language_info": {
   "codemirror_mode": {
    "name": "ipython",
    "version": 3
   },
   "file_extension": ".py",
   "mimetype": "text/x-python",
   "name": "python",
   "nbconvert_exporter": "python",
   "pygments_lexer": "ipython3",
   "version": "3.6.7"
  }
 },
 "nbformat": 4,
 "nbformat_minor": 2
}
