{
 "cells": [
  {
   "cell_type": "code",
   "execution_count": null,
   "metadata": {},
   "outputs": [],
   "source": [
    "from os import listdir\n",
    "import os\n",
    "import pickle\n",
    "\n",
    "done = 0\n",
    "data = {}\n",
    "for f in listdir('data'):\n",
    "    data[f[:-2]] = pickle.load(open('data/' + f, 'rb'), encoding='latin1')\n",
    "\n",
    "genes = [x for x in data]\n",
    "training = genes[:5]\n",
    "testing = genes[5:]"
   ]
  },
  {
   "cell_type": "code",
   "execution_count": 1,
   "metadata": {},
   "outputs": [],
   "source": [
    "import random\n",
    "\n",
    "val_p = 1\n",
    "val_n = 0\n",
    "\n",
    "pA=[('A' * 20, val_p)],\n",
    "pB=[('T' * 20, val_p)],\n",
    "pC=[('C' * 20, val_p)],\n",
    "pD=[('G' * 20, val_p)],\n",
    "nA=[('A' * 20, val_n)],\n",
    "nB=[('T' * 20, val_n)],\n",
    "nC=[('C' * 20, val_n)],\n",
    "nD=[('G' * 20, val_n)],\n",
    "\n",
    "toy_env = dict(\n",
    "    tB = (5 * pC + 5 * pB + 10 * nD) * 2,\n",
    "    tC = (5 * pA + 5 * pD + 5 * nC + 5 * nB) * 2,\n",
    "    tD = (5 * nD + 5 * nB + 10 * pA) * 2,\n",
    "    vB = (5 * pA + 5 * pD + 5 * nC + 5 * nB) * 2,\n",
    "    tE = (5 * pC + 5 * pB + 10 * nD) * 2,\n",
    "    vA = (5 * pA + 5 * pD + 5 * nC + 5 * nB) * 2,\n",
    "    vC = (5 * pC + 5 * pB + 10 * nD) * 2,\n",
    "    tA = (5 * nC + 5 * nB + 10 * pA) * 2,\n",
    ")\n",
    "data = {}\n",
    "for x in toy_env:\n",
    "    data[x] = [i[0] for i in toy_env[x]]\n",
    "    \n",
    "genes = [x for x in data]\n",
    "random.shuffle(genes)\n",
    "training = genes[:5]\n",
    "testing = genes[5:]"
   ]
  },
  {
   "cell_type": "code",
   "execution_count": 2,
   "metadata": {},
   "outputs": [],
   "source": [
    "from seq_net import *\n",
    "sess = tf.Session()"
   ]
  },
  {
   "cell_type": "code",
   "execution_count": 3,
   "metadata": {},
   "outputs": [],
   "source": [
    "net = SeqNet(sess)"
   ]
  },
  {
   "cell_type": "code",
   "execution_count": 6,
   "metadata": {},
   "outputs": [],
   "source": [
    "results = []"
   ]
  },
  {
   "cell_type": "code",
   "execution_count": null,
   "metadata": {},
   "outputs": [
    {
     "name": "stderr",
     "output_type": "stream",
     "text": [
      " 95%|█████████▌| 95/100 [05:56<00:18,  3.78s/it]"
     ]
    }
   ],
   "source": [
    "for i in trange(100):\n",
    "    for i in training:\n",
    "        net.train([(dna_vec(a), b) for a, b in data[i]], 50)\n",
    "    for i in testing:\n",
    "        results.append(net.evaluate([(dna_vec(a), b) for a, b in data[i]], 10))\n"
   ]
  },
  {
   "cell_type": "code",
   "execution_count": null,
   "metadata": {},
   "outputs": [],
   "source": [
    "import matplotlib.pyplot as plt"
   ]
  },
  {
   "cell_type": "code",
   "execution_count": null,
   "metadata": {},
   "outputs": [],
   "source": [
    "smooth = 5\n",
    "graph = np.convolve(results, [1 / smooth] * smooth)[smooth:-smooth]\n",
    "plt.plot(graph)"
   ]
  },
  {
   "cell_type": "code",
   "execution_count": null,
   "metadata": {},
   "outputs": [],
   "source": [
    "print(set(data[testing[0]]))"
   ]
  },
  {
   "cell_type": "code",
   "execution_count": 4,
   "metadata": {},
   "outputs": [
    {
     "name": "stdout",
     "output_type": "stream",
     "text": [
      "TTTTTTTTTTTTTTTTTTTT 1\n",
      "TTTTTTTTTTTTTTTTTTTT 1\n",
      "GGGGGGGGGGGGGGGGGGGG 0\n",
      "TTTTTTTTTTTTTTTTTTTT 1\n",
      "GGGGGGGGGGGGGGGGGGGG 0\n",
      "done: ATAGCCGTAAGATATCAACC 0.25\n",
      "TTTTTTTTTTTTTTTTTTTT 1\n",
      "TTTTTTTTTTTTTTTTTTTT 1\n",
      "CCCCCCCCCCCCCCCCCCCC 1\n",
      "GGGGGGGGGGGGGGGGGGGG 0\n",
      "CCCCCCCCCCCCCCCCCCCC 1\n",
      "done: GCAGTCGCTATCTTAAGATC 0.30000000000000004\n",
      "TTTTTTTTTTTTTTTTTTTT 1\n",
      "TTTTTTTTTTTTTTTTTTTT 1\n",
      "CCCCCCCCCCCCCCCCCCCC 1\n",
      "CCCCCCCCCCCCCCCCCCCC 1\n",
      "TTTTTTTTTTTTTTTTTTTT 1\n",
      "done: AGGTTCGTTTGTTCCGCCAA 0.35\n",
      "TTTTTTTTTTTTTTTTTTTT 1\n",
      "TTTTTTTTTTTTTTTTTTTT 1\n",
      "CCCCCCCCCCCCCCCCCCCC 1\n",
      "TTTTTTTTTTTTTTTTTTTT 1\n",
      "TTTTTTTTTTTTTTTTTTTT 1\n",
      "done: CGCTTCCACTTCGGCGAGAG 0.35\n",
      "TTTTTTTTTTTTTTTTTTTT 1\n",
      "TTTTTTTTTTTTTTTTTTTT 1\n",
      "CCCCCCCCCCCCCCCCCCCC 1\n",
      "TTTTTTTTTTTTTTTTTTTT 1\n",
      "CCCCCCCCCCCCCCCCCCCC 1\n",
      "done: TTCCCGCACAACTCCGCGGG 0.44999999999999996\n",
      "TTTTTTTTTTTTTTTTTTTT 1\n",
      "TTTTTTTTTTTTTTTTTTTT 1\n",
      "CCCCCCCCCCCCCCCCCCCC 1\n",
      "CCCCCCCCCCCCCCCCCCCC 1\n",
      "CCCCCCCCCCCCCCCCCCCC 1\n",
      "done: ACATGAAAAGACTGTGTGGT 0.0\n",
      "TTTTTTTTTTTTTTTTTTTT 1\n",
      "TTTTTTTTTTTTTTTTTTTT 1\n",
      "CCCCCCCCCCCCCCCCCCCC 1\n",
      "CCCCCCCCCCCCCCCCCCCC 1\n",
      "GGGGGGGGGGGGGGGGGGGG 0\n",
      "done: GTCTGGAAGTATTGGGACTC 0.0\n",
      "TTTTTTTTTTTTTTTTTTTT 1\n",
      "TTTTTTTTTTTTTTTTTTTT 1\n",
      "CCCCCCCCCCCCCCCCCCCC 1\n",
      "GGGGGGGGGGGGGGGGGGGG 0\n",
      "GGGGGGGGGGGGGGGGGGGG 0\n",
      "done: TACGTACATTTCTTGGCATG 0.4\n",
      "TTTTTTTTTTTTTTTTTTTT 1\n",
      "TTTTTTTTTTTTTTTTTTTT 1\n",
      "CCCCCCCCCCCCCCCCCCCC 1\n",
      "GGGGGGGGGGGGGGGGGGGG 0\n",
      "TTTTTTTTTTTTTTTTTTTT 1\n",
      "done: CGCAGGAAGATTTCACTTTT 0.35\n",
      "TTTTTTTTTTTTTTTTTTTT 1\n",
      "TTTTTTTTTTTTTTTTTTTT 1\n",
      "CCCCCCCCCCCCCCCCCCCC 1\n",
      "TTTTTTTTTTTTTTTTTTTT 1\n",
      "TTTTTTTTTTTTTTTTTTTT 1\n",
      "done: AAAGCCCGATGACCAGACCG 0.35\n",
      "TTTTTTTTTTTTTTTTTTTT 1\n",
      "TTTTTTTTTTTTTTTTTTTT 1\n",
      "CCCCCCCCCCCCCCCCCCCC 1\n",
      "TTTTTTTTTTTTTTTTTTTT 1\n",
      "CCCCCCCCCCCCCCCCCCCC 1\n",
      "done: GCCTGGAACATATAGACGAT 0.0\n",
      "TTTTTTTTTTTTTTTTTTTT 1\n",
      "TTTTTTTTTTTTTTTTTTTT 1\n",
      "CCCCCCCCCCCCCCCCCCCC 1\n",
      "CCCCCCCCCCCCCCCCCCCC 1\n",
      "GGGGGGGGGGGGGGGGGGGG 0\n",
      "done: GTGTTGAAATAGTGGTCGTC 0.35\n",
      "TTTTTTTTTTTTTTTTTTTT 1\n",
      "TTTTTTTTTTTTTTTTTTTT 1\n",
      "CCCCCCCCCCCCCCCCCCCC 1\n",
      "GGGGGGGGGGGGGGGGGGGG 0\n",
      "TTTTTTTTTTTTTTTTTTTT 1\n",
      "done: GATGAGACCTTTCTCGTACA 0.30000000000000004\n",
      "TTTTTTTTTTTTTTTTTTTT 1\n",
      "TTTTTTTTTTTTTTTTTTTT 1\n",
      "CCCCCCCCCCCCCCCCCCCC 1\n",
      "TTTTTTTTTTTTTTTTTTTT 1\n",
      "TTTTTTTTTTTTTTTTTTTT 1\n",
      "done: GGCGGTGCTTTCCTAGTCGG 0.0\n",
      "TTTTTTTTTTTTTTTTTTTT 1\n",
      "TTTTTTTTTTTTTTTTTTTT 1\n",
      "CCCCCCCCCCCCCCCCCCCC 1\n",
      "TTTTTTTTTTTTTTTTTTTT 1\n",
      "GGGGGGGGGGGGGGGGGGGG 0\n",
      "done: TCAGGATTCAACATCCAGCC 0.35\n",
      "TTTTTTTTTTTTTTTTTTTT 1\n",
      "TTTTTTTTTTTTTTTTTTTT 1\n",
      "CCCCCCCCCCCCCCCCCCCC 1\n",
      "GGGGGGGGGGGGGGGGGGGG 0\n",
      "CCCCCCCCCCCCCCCCCCCC 1\n",
      "done: TGACAGCTCCCACACCCGGT 0.44999999999999996\n",
      "TTTTTTTTTTTTTTTTTTTT 1\n",
      "TTTTTTTTTTTTTTTTTTTT 1\n",
      "CCCCCCCCCCCCCCCCCCCC 1\n",
      "CCCCCCCCCCCCCCCCCCCC 1\n",
      "CCCCCCCCCCCCCCCCCCCC 1\n",
      "done: AGCGGGATTAACTACCACGC 0.30000000000000004\n",
      "TTTTTTTTTTTTTTTTTTTT 1\n",
      "TTTTTTTTTTTTTTTTTTTT 1\n",
      "CCCCCCCCCCCCCCCCCCCC 1\n",
      "CCCCCCCCCCCCCCCCCCCC 1\n",
      "CCCCCCCCCCCCCCCCCCCC 1\n",
      "done: CCCAGAAAATGATCCCACAG 0.35\n",
      "TTTTTTTTTTTTTTTTTTTT 1\n",
      "TTTTTTTTTTTTTTTTTTTT 1\n",
      "CCCCCCCCCCCCCCCCCCCC 1\n",
      "CCCCCCCCCCCCCCCCCCCC 1\n",
      "CCCCCCCCCCCCCCCCCCCC 1\n",
      "done: TAAGACAAGGGAGCACGTTA 0.0\n",
      "TTTTTTTTTTTTTTTTTTTT 1\n",
      "TTTTTTTTTTTTTTTTTTTT 1\n",
      "CCCCCCCCCCCCCCCCCCCC 1\n",
      "CCCCCCCCCCCCCCCCCCCC 1\n",
      "GGGGGGGGGGGGGGGGGGGG 0\n",
      "done: GTTGTACTTAGTATTCTCCA 0.44999999999999996\n",
      "--------------------------------------------------\n"
     ]
    }
   ],
   "source": [
    "for i in [testing[0]]:\n",
    "    s, a, r = (net.path([(dna_vec(a), b) for a, b in data[i]]))\n",
    "    for z, x, y in zip(s, a, r):\n",
    "        for t, p in z:\n",
    "            print(vec_dna(t), p)\n",
    "        print('done:', vec_dna(x), y)\n",
    "    print('-' * 50)"
   ]
  }
 ],
 "metadata": {
  "kernelspec": {
   "display_name": "Python 3",
   "language": "python",
   "name": "python3"
  },
  "language_info": {
   "codemirror_mode": {
    "name": "ipython",
    "version": 3
   },
   "file_extension": ".py",
   "mimetype": "text/x-python",
   "name": "python",
   "nbconvert_exporter": "python",
   "pygments_lexer": "ipython3",
   "version": "3.6.7"
  }
 },
 "nbformat": 4,
 "nbformat_minor": 2
}
