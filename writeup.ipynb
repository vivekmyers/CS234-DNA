{
 "cells": [
  {
   "cell_type": "code",
   "execution_count": null,
   "metadata": {},
   "outputs": [],
   "source": [
    "'''\n",
    "With the recent increased usage of CRISPR, an emerging problem has been \n",
    "finding the best primers to bind to target sequences in DNA. For each \n",
    "specific gene, these primers must be found to allow the \n",
    "CRISPR enzyme to bind to and cut the target gene. Different \n",
    "primer sequences can have different success rates (\"on target rate\") for \n",
    "the same gene, so for any given target gene it is advantageous to find the\n",
    "optimal primer sequence with the greatest on target rate.\n",
    "'''"
   ]
  },
  {
   "cell_type": "code",
   "execution_count": null,
   "metadata": {},
   "outputs": [],
   "source": [
    "'''\n",
    "A naive way to find this best primer would be to simply check each possible\n",
    "primer sequence and then take the one with the greatest on target rate.\n",
    "Practically, however, checking the on target rate is a costly operation,\n",
    "requiring expensive lab tests to perform. We wish to reduce this cost,\n",
    "minimizing the number of primer sequences that must be tested before finding\n",
    "the best primer.\n",
    "'''"
   ]
  },
  {
   "cell_type": "code",
   "execution_count": null,
   "metadata": {},
   "outputs": [],
   "source": [
    "'''\n",
    "We can formulate our problem as follows: we wish to contruct a function that \n",
    "for any specific gene and set of sequences S in {A, T, C, G}^20, takes in a set of tuples \n",
    "consisting of elements of S and reals on [0, 1] (corresponding to their on target rates) \n",
    "and produces an element of S. Given an element of S, this function should converge to the \n",
    "element of S with the highest on target rate in as few iterations as possible.\n",
    "'''"
   ]
  },
  {
   "cell_type": "code",
   "execution_count": null,
   "metadata": {},
   "outputs": [],
   "source": [
    "'''\n",
    "We will represent this as a reinforcement learning problem. For any episode, our state space\n",
    "will be the set of all sets of tuples of the form (s, r) where s is in {A, T, C, G}^20 and\n",
    "r is in [0, 1], and the first elements of the tuples are unique. Our action space will be some\n",
    "subset of {A, T, C, G}^20, representing all the primer sequences which are labled with their\n",
    "on target percentages. Our transition function will take a current state (which is a set\n",
    "of elements of {A, T, C, G}^20 along with their on target rates) and an action a in A, and\n",
    "produce a new state which is the union of the old one and (a, r), where r is the on target rate\n",
    "of the sequence represented by a.\n",
    "'''"
   ]
  },
  {
   "cell_type": "code",
   "execution_count": null,
   "metadata": {},
   "outputs": [],
   "source": [
    "'''\n",
    "We will use an Actor Critic network with the Wolpertinger architecture (https://arxiv.org/pdf/1512.07679.pdf)\n",
    "to implement our agent.\n",
    "'''"
   ]
  }
 ],
 "metadata": {
  "kernelspec": {
   "display_name": "Python 3",
   "language": "python",
   "name": "python3"
  },
  "language_info": {
   "codemirror_mode": {
    "name": "ipython",
    "version": 3
   },
   "file_extension": ".py",
   "mimetype": "text/x-python",
   "name": "python",
   "nbconvert_exporter": "python",
   "pygments_lexer": "ipython3",
   "version": "3.7.1"
  }
 },
 "nbformat": 4,
 "nbformat_minor": 2
}
